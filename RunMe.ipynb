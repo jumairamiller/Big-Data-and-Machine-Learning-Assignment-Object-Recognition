{
 "cells": [
  {
   "cell_type": "markdown",
   "metadata": {},
   "source": [
    "# Small Introduction to Feature Extraction on Images"
   ]
  },
  {
   "cell_type": "markdown",
   "metadata": {},
   "source": [
    "## Do our imports\n",
    "For this notebook we will use numpy, matplotlib, and scikit-image (imported as sk-image)"
   ]
  },
  {
   "cell_type": "code",
   "execution_count": 62,
   "metadata": {},
   "outputs": [],
   "source": [
    "import numpy as np\n",
    "import matplotlib.pyplot as plt\n",
    "import skimage.feature"
   ]
  },
  {
   "cell_type": "markdown",
   "metadata": {},
   "source": [
    "## Load data and get a single image as an example"
   ]
  },
  {
   "cell_type": "code",
   "execution_count": 63,
   "metadata": {},
   "outputs": [
    {
     "name": "stdout",
     "output_type": "stream",
     "text": [
      "(32, 32, 3, 10000)\n"
     ]
    }
   ],
   "source": [
    "images = np.load('trnImage.npy')\n",
    "print(images.shape)\n",
    "image_index = 0 # pick a specific image\n",
    "image = images[:, :, :, image_index]"
   ]
  },
  {
   "cell_type": "markdown",
   "metadata": {},
   "source": [
    "## Hand-crafted Feature Extractor \n",
    "The following function extracts features from a single image. It returns both the feature vector, and an image that can be plotted to show what the features represent.\n",
    "\n",
    "The feature being extracted is the _Histogram of Oriented Gradients_. For more detail on this feature you can visit https://scikit-image.org/docs/dev/auto_examples/features_detection/plot_hog.html\n",
    "\n",
    "You may want to use such a feature extractor to obtain features to evaluate your experiements on. You may also want to explore what arguments to the $hog()$ function do, and how they may be tweaked. There are many feature extractors that you can investigate, and some models can even learn on the original feature space of the image (pixel RGB value). "
   ]
  },
  {
   "cell_type": "code",
   "execution_count": 64,
   "metadata": {},
   "outputs": [
    {
     "name": "stdout",
     "output_type": "stream",
     "text": [
      "The extracted feature vector is of length 15876 per sample\n"
     ]
    }
   ],
   "source": [
    "# Extract features from a single image\n",
    "hog_feature, hog_image = skimage.feature.hog(image, pixels_per_cell=[2,2], cells_per_block=[3,3], visualize=True)\n",
    "\n",
    "print(f'The extracted feature vector is of length {hog_feature.shape[0]} per sample')"
   ]
  },
  {
   "cell_type": "markdown",
   "metadata": {},
   "source": [
    "## Visualise the HoG features\n",
    "This is purely for your benefit, so that we can see roughly what the output from the $hog()$ function is actually doing. \n",
    "\n",
    "Notice that the feature extractor is providing a representation that gives an indication of the direction and intensity of the gradients within localised areas of the image."
   ]
  },
  {
   "cell_type": "code",
   "execution_count": 65,
   "metadata": {},
   "outputs": [
    {
     "data": {
      "image/png": "[encoded data removed]",
      "text/plain": [
       "<Figure size 432x288 with 2 Axes>"
      ]
     },
     "metadata": {
      "needs_background": "light"
     },
     "output_type": "display_data"
    }
   ],
   "source": [
    "plt.figure()\n",
    "plt.subplot(121)\n",
    "plt.imshow(hog_image)\n",
    "plt.subplot(122)\n",
    "plt.imshow(image)\n",
    "plt.suptitle(f'Extracted HOG features from image number: {image_index}')\n",
    "plt.show(block=False)"
   ]
  },
  {
   "cell_type": "markdown",
   "metadata": {},
   "source": [
    "## Using the features\n",
    "If you remember back to the labs, we were usually using data in a matrix $X$, formatted in the shape ${S}\\times{}{F}$, where ${S}$ was the number of individual samples (or data points), and ${F}$ was the number of feature dimensions for each sample.\n",
    "\n",
    "Therefore, for most of the methods we have covered, we can extract features for each sample $\\mathbf{x_i}$, which should be a vector of length $F$, and then stack them into our $S\\times{}F$ matrix to use in our experiments. \n",
    "\n",
    "Some approaches may work on slightly different shaped input, such as neural networks and convolutional neural networks. Convolutional neural networks usually expect an input of shape $S\\times{}H\\times{}W\\times{}C$; or *samples* $S$ which are of shape *height* $H$, *width* $W$ and *channel* $C$."
   ]
  },
  {
   "cell_type": "markdown",
   "metadata": {},
   "source": [
    "## The Dataset\n",
    "A description of the Cifar10 dataset can be found online at https://www.cs.toronto.edu/~kriz/cifar.html. This includes some baseline results and descriptions of the classes."
   ]
  }
 ],
 "metadata": {
  "kernelspec": {
   "display_name": "Python 3",
   "language": "python",
   "name": "python3"
  },
  "language_info": {
   "codemirror_mode": {
    "name": "ipython",
    "version": 3
   },
   "file_extension": ".py",
   "mimetype": "text/x-python",
   "name": "python",
   "nbconvert_exporter": "python",
   "pygments_lexer": "ipython3",
   "version": "3.8.6"
  }
 },
 "nbformat": 4,
 "nbformat_minor": 4
}
